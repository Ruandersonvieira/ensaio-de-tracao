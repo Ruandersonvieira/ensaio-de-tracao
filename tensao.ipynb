{
 "cells": [
  {
   "cell_type": "code",
   "execution_count": 1,
   "metadata": {},
   "outputs": [],
   "source": [
    "import sys\n",
    "import matplotlib.pyplot as plt\n",
    "import pandas as pd"
   ]
  },
  {
   "cell_type": "code",
   "execution_count": 2,
   "metadata": {},
   "outputs": [],
   "source": [
    "t_list = []\n",
    "e_list = []\n",
    "lista = []\n",
    "i=0"
   ]
  },
  {
   "cell_type": "code",
   "execution_count": 3,
   "metadata": {},
   "outputs": [
    {
     "name": "stdout",
     "output_type": "stream",
     "text": [
      "Digite o valor da área da seção em mm²\n",
      "314\n"
     ]
    }
   ],
   "source": [
    "print('Digite o valor da área da seção em mm²')\n",
    "S = input()"
   ]
  },
  {
   "cell_type": "code",
   "execution_count": 4,
   "metadata": {},
   "outputs": [
    {
     "name": "stdout",
     "output_type": "stream",
     "text": [
      "Digite o valor do módulo de elasticidade do material\n",
      "5000\n"
     ]
    }
   ],
   "source": [
    "print('Digite o valor do módulo de elasticidade do material')\n",
    "E = input()"
   ]
  },
  {
   "cell_type": "code",
   "execution_count": 7,
   "metadata": {},
   "outputs": [
    {
     "name": "stdout",
     "output_type": "stream",
     "text": [
      "Quantas forças você quer adicionar?\n",
      "4\n"
     ]
    }
   ],
   "source": [
    "print('Quantas forças você quer adicionar?')\n",
    "quant = input()"
   ]
  },
  {
   "cell_type": "code",
   "execution_count": 9,
   "metadata": {},
   "outputs": [
    {
     "name": "stdout",
     "output_type": "stream",
     "text": [
      "Digite o valor da força\n",
      "33333333\n"
     ]
    }
   ],
   "source": [
    "while i<int(float(quant)):\n",
    "    print('Digite o valor da força')\n",
    "    F = input()\n",
    "    \n",
    "    #calcula a tensão\n",
    "    T = float(F)/float(S)\n",
    "    t_list.append(float(T))\n",
    "    \n",
    "    #calcula a deformação\n",
    "    e = T/float(float(E))\n",
    "    e_list.append(e)\n",
    "    \n",
    "    i +=1"
   ]
  },
  {
   "cell_type": "code",
   "execution_count": 11,
   "metadata": {},
   "outputs": [],
   "source": [
    "dataset = pd.DataFrame({'Deformação': e_list, 'Tensão': t_list})"
   ]
  },
  {
   "cell_type": "code",
   "execution_count": 12,
   "metadata": {},
   "outputs": [
    {
     "name": "stdout",
     "output_type": "stream",
     "text": [
      "     Deformação        Tensão\n",
      "0  6.369427e+06  3.184713e+10\n",
      "1  1.485556e+03  7.427781e+06\n",
      "2  6.369427e-02  3.184713e+02\n",
      "3  2.123142e+01  1.061571e+05\n"
     ]
    }
   ],
   "source": [
    "print(dataset)"
   ]
  },
  {
   "cell_type": "code",
   "execution_count": 13,
   "metadata": {},
   "outputs": [
    {
     "data": {
      "image/png": "[encoded data removed]",
      "text/plain": [
       "<Figure size 432x288 with 1 Axes>"
      ]
     },
     "metadata": {
      "needs_background": "light"
     },
     "output_type": "display_data"
    }
   ],
   "source": [
    "plt.xlabel('Deformação')\n",
    "plt.ylabel('Tensão')\n",
    "plt.title('Tensão X Deformação')\n",
    "plt.plot(e_list, t_list, 'r-o')\n",
    "\n",
    "plt.gcf().autofmt_xdate()\n"
   ]
  },
  {
   "cell_type": "code",
   "execution_count": null,
   "metadata": {},
   "outputs": [],
   "source": []
  }
 ],
 "metadata": {
  "kernelspec": {
   "display_name": "Python 3",
   "language": "python",
   "name": "python3"
  },
  "language_info": {
   "codemirror_mode": {
    "name": "ipython",
    "version": 3
   },
   "file_extension": ".py",
   "mimetype": "text/x-python",
   "name": "python",
   "nbconvert_exporter": "python",
   "pygments_lexer": "ipython3",
   "version": "3.7.4"
  }
 },
 "nbformat": 4,
 "nbformat_minor": 2
}
